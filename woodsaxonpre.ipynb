{
 "cells": [
  {
   "cell_type": "code",
   "execution_count": null,
   "metadata": {},
   "outputs": [],
   "source": [
    "from IPython.display import Image"
   ]
  },
  {
   "attachments": {},
   "cell_type": "markdown",
   "metadata": {},
   "source": [
    "# Solving 1-D Schrodinger equation with Woods–Saxon potential potential\n"
   ]
  },
  {
   "attachments": {},
   "cell_type": "markdown",
   "metadata": {},
   "source": [
    "Time dependent Schrodinger equation\n",
    "\\begin{equation*}\n",
    "-\\frac{\\hbar^2}{2m}\\nabla^2\\psi(x,t) + V \\psi(x,t) = i\\hbar\\frac{\\partial}{\\partial t}\\psi(x,t)\n",
    "\\end{equation*}\n",
    "But we will solve only  the time-independent Schrödinger equation $t=t_0$\n",
    "\\begin{equation*}\n",
    "-\\frac{\\hbar^2}{2m}\\nabla^2\\psi(x) + V \\psi(x) = E\\psi(x),\n",
    "\\end{equation*}\n",
    "where $\\nabla^2=\\frac{d^2}{d x^2}$."
   ]
  },
  {
   "attachments": {},
   "cell_type": "markdown",
   "metadata": {},
   "source": [
    "## Finite Difference Method\n",
    "The finite difference method is an approach to solve differential equations numerically. The crux of the scheme lies in approximating the differential operator by simple differences.\n",
    "The definition of a derivative is in the form of a limit\n",
    "\\begin{equation*}\n",
    "\\frac{dy(x)}{dx} \\equiv \\lim_{h\\to 0} \\left(\\frac{y(x+h)-y(x)}{h}\\right).\n",
    "\\end{equation*}\n",
    " The 1-D Laplace operator  $\\nabla^2=\\frac{d^2}{d x^2}$ can be expressed in terms of a matrix\n",
    "\\begin{align*}\n",
    "\\frac{\\partial^2}{\\partial x^2} y(x)\n",
    "&= \n",
    "\\frac{1}{dx} \\left[ \\frac{y_{n+1} - y_{n}}{dx} - \\frac{y_{n} - y_{n-1}}{dx} \\right]\n",
    "\\\\\n",
    "&=\n",
    "\\frac{y_{n+1} - 2 y_{n} + y_{n-1}}{(dx)^2} \n",
    "\\\\\n",
    "&=\n",
    "\\frac{1}{(dx)^2}\n",
    "\\begin{pmatrix}\n",
    "  -2  &  1  &  0  &  0 &  0 \\\\\n",
    "   1  & -2  &  1  &  0 &  0 \\\\\n",
    "   0  &  1  & -2  &  1 &  0 \\\\\n",
    "   0  &  0  &  1  & -2 &  1 \\\\\n",
    "   0  &  0  &  0  &  1 & -2 \n",
    "\\end{pmatrix}\n",
    "\\cdot\n",
    "\\begin{pmatrix}\n",
    "   y_1   \\\\\n",
    "   y_2   \\\\\n",
    "   y_3   \\\\\n",
    "   y_4   \\\\\n",
    "   y_5  \n",
    "\\end{pmatrix}\n",
    "\\\\\n",
    "&\\equiv\n",
    "\\mathbf{D2} \\cdot \\mathbf{y}\n",
    "\\end{align*}\n",
    "Finally, the method can also be applied to time dependent problems, but as we want to solve the time independent Schrödinger equation, we will not address this topic here. Hopefully, it is more clear now how we can use finite differences to approximate differential operators, we didn’t talk what the numerical solution of a problem using such approximations actually looks like. \n",
    "\\begin{equation*}\n",
    "\\dfrac{\\partial^2}{\\partial x^2}\\psi(x) -\\dfrac{2m}{\\hbar^2}V\\psi(x) = -\\dfrac{2m}{\\hbar^2}E\\psi(x)\n",
    "\\end{equation*}\n",
    "We discretize the domain using a regular step of size $h$. The desired solution is the list of values $\\psi(0),\\ \\psi(h),\\ \\psi(2h),\\ \\dots,\\ \\psi((N + 1)h)$ , which we can index using an integer $i$. For each of these values, we can write down an equation of the form\n",
    "\\begin{equation*}\n",
    "\\dfrac{\\partial^2}{\\partial x^2}\\psi_i  -\\dfrac{2m}{\\hbar^2}V\\psi_i= -\\dfrac{2m}{\\hbar^2}E\\psi_i \\quad \\quad \\forall i \\in \\left\\{ 1, \\dots, N\\right\\}\n",
    "\\end{equation*}\n",
    "where $N + 2$ is the total number of points in the discretized domain. Using the approximation of the second derivative shown above, we have that\n",
    "This system of equations can be regarded as a single matrix equation\n",
    "\n",
    "\\begin{equation*}\n",
    "\\left(\n",
    "\\begin{pmatrix}\n",
    " -2 & \\ \\ 1 & & & & \\\\ \\ \\ 1 & -2 &\\ \\ 1 & & & \\\\ &\\ \\ 1 & -2 & \\ddots & & \\\\ & & \\ddots & \\ddots &\\ \\ 1 \\\\ & & & \\ \\ 1 & -2\n",
    "\\end{pmatrix}\n",
    "+ -\\dfrac{2m}{\\hbar^2}V\n",
    "\\begin{pmatrix}\n",
    " 1 & \\ \\ 0 & & & & \\\\ \\ \\ 0 & 1&\\ \\ 0 & & & \\\\ &\\ \\ 0 & 1 & \\ddots & & \\\\ & & \\ddots & \\ddots &\\ \\ 0 \\\\ & & & \\ \\ 0 & 1\n",
    "\\end{pmatrix}\n",
    " \\right) \n",
    "  \\cdot \n",
    "\\begin{pmatrix}\\psi_1 \\\\ \\psi_2 \\\\ \\psi_3 \\\\ \\vdots \\\\ \\psi_{N}\\end{pmatrix}= -\\dfrac{2m E}{\\hbar^2} \\begin{pmatrix}\\psi_1 \\\\ \\psi_2\\\\ \\psi_3 \\\\ \\vdots \\\\ \\psi_{N} \n",
    "\\end{pmatrix}\n",
    "\\end{equation*}\n",
    "\n",
    "\n",
    "\n",
    "which is in the form of an eigenvalue problem. Solving the eigenproblem, we find a set of eigenvectors $\\psi$ representing the solution, and a corresponding set of eigenvalues $\\frac{2m E}{\\hbar^2}$ which represent the appropriately scaled energy levels.\n"
   ]
  },
  {
   "attachments": {},
   "cell_type": "markdown",
   "metadata": {},
   "source": [
    "## Wood-Saxon potential\n",
    "\n",
    "\\begin{equation*}\n",
    "V=v_{ws}(r)+v_{C}(r)+v_{LS}(r)\\textbf{L}\\cdot\\textbf{S}\n",
    "\\end{equation*}\n",
    "\n",
    "The Coulombic part of the potential $v_{C}(r)$ is"
   ]
  },
  {
   "cell_type": "code",
   "execution_count": null,
   "metadata": {},
   "outputs": [],
   "source": [
    "Image(filename='img/columb.png')"
   ]
  },
  {
   "attachments": {},
   "cell_type": "markdown",
   "metadata": {},
   "source": [
    "The Wood-saxon potential $v_{ws}(r)$ is"
   ]
  },
  {
   "cell_type": "code",
   "execution_count": null,
   "metadata": {},
   "outputs": [],
   "source": [
    "Image(filename='img/wood.png')"
   ]
  },
  {
   "attachments": {},
   "cell_type": "markdown",
   "metadata": {},
   "source": [
    "The spin–orbit term $v_{LS}(r)$ is"
   ]
  },
  {
   "cell_type": "code",
   "execution_count": null,
   "metadata": {},
   "outputs": [],
   "source": [
    "Image(filename='img/LS.png')"
   ]
  }
 ],
 "metadata": {
  "kernelspec": {
   "display_name": "Python 3",
   "language": "python",
   "name": "python3"
  },
  "language_info": {
   "codemirror_mode": {
    "name": "ipython",
    "version": 3
   },
   "file_extension": ".py",
   "mimetype": "text/x-python",
   "name": "python",
   "nbconvert_exporter": "python",
   "pygments_lexer": "ipython3",
   "version": "3.7.9"
  },
  "orig_nbformat": 4
 },
 "nbformat": 4,
 "nbformat_minor": 2
}
